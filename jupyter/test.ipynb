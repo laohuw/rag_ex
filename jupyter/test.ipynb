{
 "cells": [
  {
   "cell_type": "code",
   "execution_count": null,
   "id": "initial_id",
   "metadata": {
    "collapsed": true
   },
   "outputs": [],
   "source": [
    "from llama_cpp import llama, Llama\n",
    "\n",
    "model_path=\"./models/llama-2-7b-chat.Q4_K_M.gguf\"\n",
    "CONTEXT_SIZE=512\n",
    "ngl=20\n",
    "llm=Llama(model_path, n_ctx=CONTEXT_SIZE,n_gpu_layers=ngl)\n"
   ]
  }
 ],
 "metadata": {
  "kernelspec": {
   "display_name": "Python 3",
   "language": "python",
   "name": "python3"
  },
  "language_info": {
   "codemirror_mode": {
    "name": "ipython",
    "version": 2
   },
   "file_extension": ".py",
   "mimetype": "text/x-python",
   "name": "python",
   "nbconvert_exporter": "python",
   "pygments_lexer": "ipython2",
   "version": "2.7.6"
  }
 },
 "nbformat": 4,
 "nbformat_minor": 5
}
