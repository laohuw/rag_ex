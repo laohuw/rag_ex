{
 "cells": [
  {
   "cell_type": "code",
   "id": "initial_id",
   "metadata": {
    "collapsed": true,
    "ExecuteTime": {
     "end_time": "2025-06-23T05:05:48.619953Z",
     "start_time": "2025-06-23T05:05:48.609800Z"
    }
   },
   "source": [
    "import faiss\n",
    "import numpy as np\n",
    "\n",
    "# vectors= np.array([[1, 2, 3], [4, 5, 6], [7, 8, 9]], dtype=np.float32)\n",
    "vectors= np.array([[1, 0, 0], [0, 1, 0], [0, 0, 1],[1, 1,0],[0, 1, 1]], dtype=np.float32)\n",
    "faiss.normalize_L2(vectors)\n",
    "print(\"Normalized Vectors:\\n\", vectors)\n"
   ],
   "outputs": [
    {
     "name": "stdout",
     "output_type": "stream",
     "text": [
      "Normalized Vectors:\n",
      " [[1.         0.         0.        ]\n",
      " [0.         1.         0.        ]\n",
      " [0.         0.         1.        ]\n",
      " [0.70710677 0.70710677 0.        ]\n",
      " [0.         0.70710677 0.70710677]]\n"
     ]
    }
   ],
   "execution_count": 6
  },
  {
   "metadata": {
    "ExecuteTime": {
     "end_time": "2025-06-23T05:05:50.373975Z",
     "start_time": "2025-06-23T05:05:50.371369Z"
    }
   },
   "cell_type": "code",
   "source": [
    "d = vectors.shape[0]\n",
    "print (\"Dimension of vectors:\", d)\n",
    "d= vectors.shape[1]\n",
    "print (\"Dimension of vectors:\", d)"
   ],
   "id": "c317ad81c5925b65",
   "outputs": [
    {
     "name": "stdout",
     "output_type": "stream",
     "text": [
      "Dimension of vectors: 5\n",
      "Dimension of vectors: 3\n"
     ]
    }
   ],
   "execution_count": 7
  },
  {
   "metadata": {
    "ExecuteTime": {
     "end_time": "2025-06-23T05:17:47.651776Z",
     "start_time": "2025-06-23T05:17:47.638871Z"
    }
   },
   "cell_type": "code",
   "source": [
    "index = faiss.IndexFlatIP(d)\n",
    "index.add(vectors)\n",
    "query=np.array([[1, 1, 1]], dtype=np.float32)\n",
    "faiss.normalize_L2(query)\n",
    "print(\"Query Vector:\\n\", query)\n",
    "D, I = index.search(query, 3)  # Search for the 3 nearest neighbors\n",
    "print(\"Distances:\\n\", D)\n",
    "print(\"Indices:\\n\", I)"
   ],
   "id": "d530c31edafd32d6",
   "outputs": [
    {
     "name": "stdout",
     "output_type": "stream",
     "text": [
      "Query Vector:\n",
      " [[0.57735026 0.57735026 0.57735026]]\n",
      "Distances:\n",
      " [[0.81649655 0.81649655 0.57735026]]\n",
      "Indices:\n",
      " [[4 3 2]]\n"
     ]
    }
   ],
   "execution_count": 17
  }
 ],
 "metadata": {
  "kernelspec": {
   "display_name": "Python 3",
   "language": "python",
   "name": "python3"
  },
  "language_info": {
   "codemirror_mode": {
    "name": "ipython",
    "version": 2
   },
   "file_extension": ".py",
   "mimetype": "text/x-python",
   "name": "python",
   "nbconvert_exporter": "python",
   "pygments_lexer": "ipython2",
   "version": "2.7.6"
  }
 },
 "nbformat": 4,
 "nbformat_minor": 5
}
