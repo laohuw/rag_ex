{
 "cells": [
  {
   "cell_type": "code",
   "execution_count": 1,
   "id": "initial_id",
   "metadata": {
    "collapsed": true,
    "ExecuteTime": {
     "end_time": "2025-06-16T04:53:12.488009108Z",
     "start_time": "2025-06-16T04:53:11.564374917Z"
    }
   },
   "outputs": [
    {
     "name": "stdout",
     "output_type": "stream",
     "text": [
      "pytorch: v 2.7.1+cu126 cuda: 12.6 cudnn: 90501\n"
     ]
    }
   ],
   "source": [
    "import torch\n",
    "print(\"pytorch: v\",torch.__version__ , \"cuda:\", torch.version.cuda, \"cudnn:\", torch.backends.cudnn.version())"
   ]
  },
  {
   "cell_type": "code",
   "execution_count": 2,
   "outputs": [
    {
     "name": "stdout",
     "output_type": "stream",
     "text": [
      "tensor([189., 170., 189., 163., 183., 171., 185., 168., 173., 183., 173., 173.,\n",
      "        175., 178., 183., 193., 178., 173., 174., 183., 183., 180., 168., 180.,\n",
      "        170., 178., 182., 180., 183., 178., 182., 188., 175., 179., 183., 193.,\n",
      "        182., 183., 177., 185., 188., 188., 182., 185., 191., 183.],\n",
      "       dtype=torch.float64)\n",
      "torch.Size([46])\n"
     ]
    }
   ],
   "source": [
    "heights = [189, 170, 189, 163, 183, 171, 185,\n",
    "168, 173, 183, 173, 173, 175, 178,\n",
    "183, 193, 178, 173, 174, 183, 183,\n",
    "180, 168, 180, 170, 178, 182, 180,\n",
    "183, 178, 182, 188, 175, 179, 183,\n",
    "193, 182, 183, 177, 185, 188, 188,\n",
    "182, 185, 191, 183]\n",
    "\n",
    "height_tensor = torch.tensor(heights, dtype=torch.float64)\n",
    "print(height_tensor)\n",
    "print(height_tensor.shape)"
   ],
   "metadata": {
    "collapsed": false,
    "ExecuteTime": {
     "end_time": "2025-06-16T04:53:33.958257495Z",
     "start_time": "2025-06-16T04:53:33.942868643Z"
    }
   },
   "id": "76640eeeb4fa40cc"
  },
  {
   "cell_type": "code",
   "execution_count": 9,
   "outputs": [
    {
     "name": "stdout",
     "output_type": "stream",
     "text": [
      "tensor([6.2008, 5.5774, 6.2008, 5.3478, 6.0039, 5.6102, 6.0696, 5.5118, 5.6759,\n",
      "        6.0039, 5.6759, 5.6759, 5.7415, 5.8399, 6.0039, 6.3320, 5.8399, 5.6759,\n",
      "        5.7087, 6.0039, 6.0039, 5.9055, 5.5118, 5.9055, 5.5774, 5.8399, 5.9711,\n",
      "        5.9055, 6.0039, 5.8399, 5.9711, 6.1680, 5.7415, 5.8727, 6.0039, 6.3320,\n",
      "        5.9711, 6.0039, 5.8071, 6.0696, 6.1680, 6.1680, 5.9711, 6.0696, 6.2664,\n",
      "        6.0039], dtype=torch.float64)\n",
      "torch.Size([92])\n",
      "torch.Size([2, 46])\n",
      "tensor([[189.0000, 170.0000, 189.0000, 163.0000, 183.0000, 171.0000, 185.0000,\n",
      "         168.0000, 173.0000, 183.0000, 173.0000, 173.0000, 175.0000, 178.0000,\n",
      "         183.0000, 193.0000, 178.0000, 173.0000, 174.0000, 183.0000, 183.0000,\n",
      "         180.0000, 168.0000, 180.0000, 170.0000, 178.0000, 182.0000, 180.0000,\n",
      "         183.0000, 178.0000, 182.0000, 188.0000, 175.0000, 179.0000, 183.0000,\n",
      "         193.0000, 182.0000, 183.0000, 177.0000, 185.0000, 188.0000, 188.0000,\n",
      "         182.0000, 185.0000, 191.0000, 183.0000],\n",
      "        [  6.2008,   5.5774,   6.2008,   5.3478,   6.0039,   5.6102,   6.0696,\n",
      "           5.5118,   5.6759,   6.0039,   5.6759,   5.6759,   5.7415,   5.8399,\n",
      "           6.0039,   6.3320,   5.8399,   5.6759,   5.7087,   6.0039,   6.0039,\n",
      "           5.9055,   5.5118,   5.9055,   5.5774,   5.8399,   5.9711,   5.9055,\n",
      "           6.0039,   5.8399,   5.9711,   6.1680,   5.7415,   5.8727,   6.0039,\n",
      "           6.3320,   5.9711,   6.0039,   5.8071,   6.0696,   6.1680,   6.1680,\n",
      "           5.9711,   6.0696,   6.2664,   6.0039]], dtype=torch.float64)\n"
     ]
    }
   ],
   "source": [
    "height_in_feet= height_tensor / 30.48\n",
    "print(height_in_feet)\n",
    "height_2_meatures = torch.cat( [height_tensor, height_in_feet], dim=0)\n",
    "\n",
    "print(height_2_meatures.shape)\n",
    "heights_reshaped=height_2_meatures.reshape(2, -1)  # -1 means infer the size of this dimension\n",
    "print(heights_reshaped.shape)\n",
    "print(heights_reshaped)"
   ],
   "metadata": {
    "collapsed": false,
    "ExecuteTime": {
     "end_time": "2025-06-16T04:58:37.216288186Z",
     "start_time": "2025-06-16T04:58:37.134777572Z"
    }
   },
   "id": "f14f199fb4051bfa"
  },
  {
   "cell_type": "code",
   "execution_count": 19,
   "outputs": [
    {
     "name": "stdout",
     "output_type": "stream",
     "text": [
      "tensor(182., dtype=torch.float64)\n",
      "tensor(5.9711, dtype=torch.float64)\n",
      "tensor(180.0652, dtype=torch.float64)\n",
      "tensor([189., 170., 189., 163., 183., 171., 185., 168., 173., 183., 173., 173.,\n",
      "        175., 178., 183., 193., 178., 173., 174., 183., 183., 180., 168., 180.,\n",
      "        170., 178., 182., 180., 183., 178., 182., 188., 175., 179., 183., 193.,\n",
      "        182., 183., 177., 185., 188., 188., 182., 185., 191., 183.],\n",
      "       dtype=torch.float64)\n",
      "tensor([0, 0, 0, 0, 0, 0, 0, 0, 0, 0, 0, 0, 0, 0, 0, 0, 0, 0, 0, 0, 0, 0, 0, 0,\n",
      "        0, 0, 0, 0, 0, 0, 0, 0, 0, 0, 0, 0, 0, 0, 0, 0, 0, 0, 0, 0, 0, 0])\n"
     ]
    }
   ],
   "source": [
    "print(torch.median(heights_reshaped[0, :]))\n",
    "print(torch.median(heights_reshaped[1, :]))\n",
    "print(torch.mean(heights_reshaped[0, :]))\n",
    "values, indices=torch.max(heights_reshaped, dim=0)\n",
    "print(values)\n",
    "print(indices)\n"
   ],
   "metadata": {
    "collapsed": false,
    "ExecuteTime": {
     "end_time": "2025-06-16T05:04:34.670386943Z",
     "start_time": "2025-06-16T05:04:34.660536535Z"
    }
   },
   "id": "5aadfc14d20054b2"
  }
 ],
 "metadata": {
  "kernelspec": {
   "display_name": "Python 3",
   "language": "python",
   "name": "python3"
  },
  "language_info": {
   "codemirror_mode": {
    "name": "ipython",
    "version": 2
   },
   "file_extension": ".py",
   "mimetype": "text/x-python",
   "name": "python",
   "nbconvert_exporter": "python",
   "pygments_lexer": "ipython2",
   "version": "2.7.6"
  }
 },
 "nbformat": 4,
 "nbformat_minor": 5
}
